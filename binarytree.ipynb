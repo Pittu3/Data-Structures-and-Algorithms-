{
 "cells": [
  {
   "cell_type": "markdown",
   "metadata": {},
   "source": [
    "# Binary tree"
   ]
  },
  {
   "cell_type": "code",
   "execution_count": 4,
   "metadata": {},
   "outputs": [
    {
     "name": "stdout",
     "output_type": "stream",
     "text": [
      "B A E D G H F Inorder\n",
      "A B D E F G H Preorder\n",
      "B E H G F D A Postorder\n",
      "A,B,D,E,F,G,H,Levelorder\n",
      "Height of a tree\n",
      "4\n"
     ]
    }
   ],
   "source": [
    "class Node:\n",
    "    def __init__(self,d):\n",
    "        self.d=d\n",
    "        self.left=None\n",
    "        self.right=None\n",
    "        self.child=[]\n",
    "\n",
    "def inorder(root):\n",
    "    if root:\n",
    "        inorder(root.left)\n",
    "        print(root.d,end=\" \")\n",
    "        inorder(root.right)\n",
    "def preorder(root):\n",
    "    if root:\n",
    "        print(root.d,end=\" \")\n",
    "        preorder(root.left)\n",
    "        preorder(root.right)\n",
    "def postorder(root):\n",
    "    if root:\n",
    "        postorder(root.left)\n",
    "        postorder(root.right)\n",
    "        print(root.d,end=\" \")\n",
    "def onlyleafnodes(root):\n",
    "    if root==None:\n",
    "        return None\n",
    "    if root.left==None and root.right==None:\n",
    "        print(root.d)\n",
    "    onlyleafnodes(root.d)\n",
    "    onlyleafnodes(root.right)\n",
    "\n",
    "def levelorder(root):\n",
    "    if not root:\n",
    "        return\n",
    "    queue=[root]\n",
    "    while queue:\n",
    "        node=queue.pop(0)\n",
    "        print(node.d,end=\",\")\n",
    "        if node.left:\n",
    "            queue.append(node.left)\n",
    "        if node.right:\n",
    "            queue.append(node.right)\n",
    "def heightoftree(root):\n",
    "    if root==None:\n",
    "        return -1\n",
    "    else:\n",
    "        return 1+max(heightoftree(root.left),heightoftree(root.right))\n",
    "    \n",
    "        \n",
    "    \n",
    "root=Node('A')\n",
    "root.left=Node('B')\n",
    "root.right=Node('D')\n",
    "root.right.right=Node('C')\n",
    "root.right.left=Node('E')\n",
    "root.right.right=Node('F')\n",
    "root.right.right.left=Node('G')\n",
    "root.right.right.left.right=Node('H')\n",
    "inorder(root)\n",
    "print(\"Inorder\")\n",
    "\n",
    "\n",
    "preorder(root)\n",
    "print(\"Preorder\")\n",
    "\n",
    "postorder(root)\n",
    "print(\"Postorder\")\n",
    "\n",
    "levelorder(root)\n",
    "print(\"Levelorder\")\n",
    "\n",
    "\n",
    "print(\"Height of a tree\")\n",
    "a=heightoftree(root)\n",
    "print(a)"
   ]
  },
  {
   "cell_type": "code",
   "execution_count": 5,
   "metadata": {},
   "outputs": [
    {
     "name": "stdout",
     "output_type": "stream",
     "text": [
      "1,2,3,4,5,"
     ]
    }
   ],
   "source": [
    "class ListNode:\n",
    "    def __init__(self,val=0,next=None):\n",
    "        self.val = val\n",
    "        self.next = next\n",
    "class Solution:\n",
    "    def show(self,head):\n",
    "        t=head\n",
    "        while t:\n",
    "            print(t.val,end=\",\")\n",
    "            t=t.next\n",
    "        \n",
    "    def removeElements(self,head,val):\n",
    "        temp = ListNode(0)\n",
    "        temp.next = head\n",
    "        prev,curr = temp,head\n",
    "        while curr:\n",
    "            if curr.val == val:\n",
    "                prev.next = curr.next\n",
    "            else:\n",
    "                prev = curr\n",
    "            curr = curr.next\n",
    "        return temp.next\n",
    "obj = Solution()\n",
    "head = ListNode(1)\n",
    "head.next = ListNode(2)\n",
    "head.next.next = ListNode(6)\n",
    "head.next.next.next = ListNode(3)\n",
    "head.next.next.next.next= ListNode(4)\n",
    "head.next.next.next.next.next = ListNode(5)\n",
    "head.next.next.next.next.next.next = ListNode(6)\n",
    "val = 6\n",
    "head = obj.removeElements(head,val)\n",
    "obj.show(head)"
   ]
  },
  {
   "cell_type": "markdown",
   "metadata": {},
   "source": [
    "## Right view of binary tree"
   ]
  },
  {
   "cell_type": "code",
   "execution_count": 6,
   "metadata": {},
   "outputs": [
    {
     "name": "stdout",
     "output_type": "stream",
     "text": [
      "left view \n",
      "3,6,\n"
     ]
    }
   ],
   "source": [
    "class Node:\n",
    "    def __init__(self,d):\n",
    "        self.lc=None\n",
    "        self.rc=None\n",
    "        self.d=d\n",
    "        self.hd=0\n",
    "def rightview(root):\n",
    "    m={}\n",
    "    q=[]\n",
    "    q.append(root)\n",
    "    while len(q)>0:\n",
    "        node=q.pop(0)\n",
    "        if node.hd not in m:\n",
    "            m[node.hd]=node.d\n",
    "        if node.lc:\n",
    "            node.lc.hd=node.hd-1\n",
    "            q.append(node.lc)\n",
    "        if node.rc:\n",
    "            node.rc.hd=node.hd+1\n",
    "            q.append(node.rc)\n",
    "    print(\"left view \")\n",
    "    for k in sorted(m):\n",
    "        if k>0:\n",
    "            print(m[k],end=\",\")\n",
    "    print()\n",
    "\n",
    "#Driver code           \n",
    "root=Node(1)\n",
    "root.lc=Node(2)\n",
    "root.rc=Node(3)\n",
    "root.lc.lc=Node(4)\n",
    "root.lc.rc=Node(5)\n",
    "root.lc.lc.rc=Node(7)\n",
    "root.lc.lc.rc.lc=Node(9)\n",
    "root.lc.lc.rc.lc.lc=Node(10)\n",
    "root.rc.rc=Node(6)\n",
    "root.rc.rc.lc=Node(8)\n",
    "root.rc.rc.lc.rc=Node(11)\n",
    "rightview(root) \n"
   ]
  },
  {
   "cell_type": "markdown",
   "metadata": {},
   "source": [
    "## Left view of binary tree"
   ]
  },
  {
   "cell_type": "code",
   "execution_count": 7,
   "metadata": {},
   "outputs": [
    {
     "name": "stdout",
     "output_type": "stream",
     "text": [
      "left view \n",
      "10,4,2,\n"
     ]
    }
   ],
   "source": [
    "class Node:\n",
    "    def __init__(self,d):\n",
    "        self.lc=None\n",
    "        self.rc=None\n",
    "        self.d=d\n",
    "        self.hd=0\n",
    "def leftview(root):\n",
    "    m={}\n",
    "    q=[]\n",
    "    q.append(root)\n",
    "    while len(q)>0:\n",
    "        node=q.pop(0)\n",
    "        if node.hd not in m:\n",
    "            m[node.hd]=node.d\n",
    "        if node.lc:\n",
    "            node.lc.hd=node.hd-1\n",
    "            q.append(node.lc)\n",
    "        if node.rc:\n",
    "            node.rc.hd=node.hd+1\n",
    "            q.append(node.rc)\n",
    "    print(\"left view \")\n",
    "    for k in sorted(m):\n",
    "        if k<0:\n",
    "            print(m[k],end=\",\")\n",
    "    print()\n",
    "\n",
    "#Driver code           \n",
    "root=Node(1)\n",
    "root.lc=Node(2)\n",
    "root.rc=Node(3)\n",
    "root.lc.lc=Node(4)\n",
    "root.lc.rc=Node(5)\n",
    "root.lc.lc.rc=Node(7)\n",
    "root.lc.lc.rc.lc=Node(9)\n",
    "root.lc.lc.rc.lc.lc=Node(10)\n",
    "root.rc.rc=Node(6)\n",
    "root.rc.rc.lc=Node(8)\n",
    "root.rc.rc.lc.rc=Node(11)\n",
    "leftview(root)"
   ]
  },
  {
   "cell_type": "markdown",
   "metadata": {},
   "source": [
    "## Top view of binary tree"
   ]
  },
  {
   "cell_type": "code",
   "execution_count": 8,
   "metadata": {},
   "outputs": [
    {
     "name": "stdout",
     "output_type": "stream",
     "text": [
      "Top view \n",
      "10,4,2,1,3,6,"
     ]
    }
   ],
   "source": [
    "class Node:\n",
    "    def __init__(self,d):\n",
    "        self.lc=None\n",
    "        self.rc=None\n",
    "        self.d=d\n",
    "        self.hd=0\n",
    "def topview(root):\n",
    "    m={}\n",
    "    q=[]\n",
    "    q.append(root)\n",
    "    while len(q)>0:\n",
    "        node=q.pop(0)\n",
    "        if node.hd not in m:\n",
    "            m[node.hd]=node.d\n",
    "        if node.lc:\n",
    "            node.lc.hd=node.hd -1\n",
    "            q.append(node.lc)\n",
    "        if node.rc:\n",
    "            node.rc.hd=node.hd  +1\n",
    "            q.append(node.rc)\n",
    "    print(\"Top view \")\n",
    "    for k in sorted(m):\n",
    "        print(m[k],end=\",\")\n",
    "            \n",
    "root=Node(1)\n",
    "root.lc=Node(2)\n",
    "root.rc=Node(3)\n",
    "root.lc.lc=Node(4)\n",
    "root.lc.rc=Node(5)\n",
    "root.lc.lc.rc=Node(7)\n",
    "root.lc.lc.rc.lc=Node(9)\n",
    "root.lc.lc.rc.lc.lc=Node(10)\n",
    "root.rc.rc=Node(6)\n",
    "root.rc.rc.lc=Node(8)\n",
    "root.rc.rc.lc.rc=Node(11)\n",
    "topview(root)"
   ]
  },
  {
   "cell_type": "markdown",
   "metadata": {},
   "source": [
    "## Bottom view of binary tree"
   ]
  },
  {
   "cell_type": "code",
   "execution_count": 9,
   "metadata": {},
   "outputs": [
    {
     "name": "stdout",
     "output_type": "stream",
     "text": [
      "bottom view \n",
      "10,9,7,5,8,11,"
     ]
    }
   ],
   "source": [
    "class Node:\n",
    "    def __init__(self,d):\n",
    "        self.lc=None\n",
    "        self.rc=None\n",
    "        self.d=d\n",
    "        self.hd=0\n",
    "def bottomview(root):\n",
    "    m={}\n",
    "    q=[]\n",
    "    q.append(root)\n",
    "    while len(q)>0:\n",
    "        node=q.pop(0)\n",
    "        m[node.hd]=node.d\n",
    "        if node.lc:\n",
    "            node.lc.hd=node.hd-1\n",
    "            q.append(node.lc)\n",
    "        if node.rc:\n",
    "            node.rc.hd=node.hd+1\n",
    "            q.append(node.rc)\n",
    "    print(\"bottom view \")\n",
    "    for k in sorted(m):\n",
    "        print(m[k],end=\",\")\n",
    "\n",
    "\n",
    "\n",
    "#Driver code           \n",
    "root=Node(1)\n",
    "root.lc=Node(2)\n",
    "root.rc=Node(3)\n",
    "root.lc.lc=Node(4)\n",
    "root.lc.rc=Node(5)\n",
    "root.lc.lc.rc=Node(7)\n",
    "root.lc.lc.rc.lc=Node(9)\n",
    "root.lc.lc.rc.lc.lc=Node(10)\n",
    "root.rc.rc=Node(6)\n",
    "root.rc.rc.lc=Node(8)\n",
    "root.rc.rc.lc.rc=Node(11)\n",
    "bottomview(root)"
   ]
  },
  {
   "cell_type": "markdown",
   "metadata": {},
   "source": []
  }
 ],
 "metadata": {
  "kernelspec": {
   "display_name": "Python 3",
   "language": "python",
   "name": "python3"
  },
  "language_info": {
   "codemirror_mode": {
    "name": "ipython",
    "version": 3
   },
   "file_extension": ".py",
   "mimetype": "text/x-python",
   "name": "python",
   "nbconvert_exporter": "python",
   "pygments_lexer": "ipython3",
   "version": "3.12.1"
  }
 },
 "nbformat": 4,
 "nbformat_minor": 2
}
