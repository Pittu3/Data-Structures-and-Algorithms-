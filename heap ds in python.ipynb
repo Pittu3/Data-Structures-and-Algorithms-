{
 "cells": [
  {
   "cell_type": "code",
   "execution_count": 2,
   "id": "fb567cbe-7fd6-4bdc-a714-5d2b63552ee8",
   "metadata": {},
   "outputs": [],
   "source": [
    "import heapq"
   ]
  },
  {
   "cell_type": "code",
   "execution_count": 3,
   "id": "390e893d-8277-47f9-946a-268ad8b32996",
   "metadata": {},
   "outputs": [
    {
     "name": "stdout",
     "output_type": "stream",
     "text": [
      "[1, 6, 3, 7, 8, 22, 5, 9, 20]\n",
      "1\n"
     ]
    }
   ],
   "source": [
    "arr = [5,20,3,6,8,22,1,9,7]\n",
    "heapq.heapify(arr)\n",
    "print(arr)\n",
    "print(arr[0])"
   ]
  },
  {
   "cell_type": "code",
   "execution_count": 5,
   "id": "39348b77",
   "metadata": {},
   "outputs": [
    {
     "data": {
      "text/plain": [
       "1"
      ]
     },
     "execution_count": 5,
     "metadata": {},
     "output_type": "execute_result"
    }
   ],
   "source": [
    "heapq.heappop(arr)"
   ]
  },
  {
   "cell_type": "code",
   "execution_count": 6,
   "id": "d80cc940",
   "metadata": {},
   "outputs": [
    {
     "data": {
      "text/plain": [
       "3"
      ]
     },
     "execution_count": 6,
     "metadata": {},
     "output_type": "execute_result"
    }
   ],
   "source": [
    "heapq.heappop(arr)"
   ]
  },
  {
   "cell_type": "code",
   "execution_count": 7,
   "id": "c6f72f92",
   "metadata": {},
   "outputs": [
    {
     "data": {
      "text/plain": [
       "5"
      ]
     },
     "execution_count": 7,
     "metadata": {},
     "output_type": "execute_result"
    }
   ],
   "source": [
    "heapq.heappop(arr)"
   ]
  },
  {
   "cell_type": "code",
   "execution_count": 10,
   "id": "a17dbcf9",
   "metadata": {},
   "outputs": [
    {
     "data": {
      "text/plain": [
       "5"
      ]
     },
     "execution_count": 10,
     "metadata": {},
     "output_type": "execute_result"
    }
   ],
   "source": [
    "#print nth minimum\n",
    "def findnthmin(arr,n):\n",
    "    heapq.heapify(arr)\n",
    "    i=0\n",
    "    while i<n:\n",
    "        d=heapq.heappop(arr)\n",
    "        i=i+1\n",
    "    return d\n",
    "\n",
    "arr = [5,20,3,6,8,22,1,9,7]\n",
    "n = 3\n",
    "findnthmin(arr,n)\n",
    "    "
   ]
  },
  {
   "cell_type": "code",
   "execution_count": 15,
   "id": "7d64443f",
   "metadata": {},
   "outputs": [
    {
     "data": {
      "text/plain": [
       "9"
      ]
     },
     "execution_count": 15,
     "metadata": {},
     "output_type": "execute_result"
    }
   ],
   "source": [
    "#print nth maximum\n",
    "def findnthmax(arr,n):\n",
    "    arr=[-d for d in arr]\n",
    "    heapq.heapify(arr)\n",
    "    i=0\n",
    "    while i<n:\n",
    "        d=heapq.heappop(arr)\n",
    "        i=i+1\n",
    "    return -d\n",
    "\n",
    "arr = [5,20,3,6,8,22,1,9,7]\n",
    "n = 3\n",
    "findnthmax(arr,n)\n",
    "  "
   ]
  },
  {
   "cell_type": "code",
   "execution_count": null,
   "id": "cd30112d",
   "metadata": {},
   "outputs": [],
   "source": []
  }
 ],
 "metadata": {
  "kernelspec": {
   "display_name": "Python 3 (ipykernel)",
   "language": "python",
   "name": "python3"
  },
  "language_info": {
   "codemirror_mode": {
    "name": "ipython",
    "version": 3
   },
   "file_extension": ".py",
   "mimetype": "text/x-python",
   "name": "python",
   "nbconvert_exporter": "python",
   "pygments_lexer": "ipython3",
   "version": "3.11.7"
  }
 },
 "nbformat": 4,
 "nbformat_minor": 5
}
